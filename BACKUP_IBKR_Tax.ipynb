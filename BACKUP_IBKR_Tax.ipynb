{
 "cells": [
  {
   "cell_type": "markdown",
   "metadata": {},
   "source": [
    "# IBKR Tax"
   ]
  },
  {
   "cell_type": "code",
   "execution_count": null,
   "metadata": {
    "scrolled": true
   },
   "outputs": [],
   "source": [
    "import pandas as pd\n",
    "from IPython.display import display"
   ]
  },
  {
   "cell_type": "code",
   "execution_count": null,
   "metadata": {
    "scrolled": true
   },
   "outputs": [],
   "source": [
    "from currency_converter import CurrencyConverter\n",
    "c = CurrencyConverter(fallback_on_missing_rate=True)"
   ]
  },
  {
   "cell_type": "markdown",
   "metadata": {},
   "source": [
    "# Utils"
   ]
  },
  {
   "cell_type": "code",
   "execution_count": null,
   "metadata": {},
   "outputs": [],
   "source": [
    "def addSumCol(df):\n",
    "    df.loc[:,'Sum'] = df.sum(numeric_only=True, axis=1)\n",
    "    return df"
   ]
  },
  {
   "cell_type": "code",
   "execution_count": null,
   "metadata": {},
   "outputs": [],
   "source": [
    "def addSumRow(df):\n",
    "    if isinstance(df.index, pd.MultiIndex):\n",
    "        myRange = range(df.index.nlevels)\n",
    "        myIndex = tuple('Sum' for x in myRange)\n",
    "        df.loc[myIndex,:]= df.sum(numeric_only=True, axis=0)\n",
    "    else:\n",
    "        df.loc['Sum']= df.sum(numeric_only=True, axis=0)\n",
    "    return df"
   ]
  },
  {
   "cell_type": "markdown",
   "metadata": {},
   "source": [
    "# Read Data"
   ]
  },
  {
   "cell_type": "markdown",
   "metadata": {},
   "source": [
    "Requirements:\n",
    "- English activity statement\n",
    "- Year of activity statement 2020 and older\n",
    "- All Options, Futures, CFDs closed before year end\n",
    "- Only single short put and short call (Line 25 Losses from the disposal of worthless assets as per section 20(1) of the Income Tax Act not implemented)\n",
    "- Manual credit of Withholding tax\n",
    "- No classification of REITs as investment fund required"
   ]
  },
  {
   "cell_type": "code",
   "execution_count": null,
   "metadata": {
    "scrolled": true
   },
   "outputs": [],
   "source": [
    "myfile = \"MY_ACTIVITY_STATEMENT.csv\""
   ]
  },
  {
   "cell_type": "markdown",
   "metadata": {},
   "source": [
    "https://stackoverflow.com/questions/27020216/import-csv-with-different-number-of-columns-per-row-using-pandas/57824142#57824142"
   ]
  },
  {
   "cell_type": "code",
   "execution_count": null,
   "metadata": {
    "scrolled": true
   },
   "outputs": [],
   "source": [
    "### Loop the data lines\n",
    "with open(myfile, 'r') as temp_f:\n",
    "    # get No of columns in each line\n",
    "    col_count = [ len(l.split(\",\")) for l in temp_f.readlines() ]\n",
    "\n",
    "### Generate column names  (names will be 0, 1, 2, ..., maximum columns - 1)\n",
    "column_names = [i for i in range(0, max(col_count))]\n",
    "\n",
    "### Read csv\n",
    "df = pd.read_csv(myfile, header=None, delimiter=\",\", names=column_names)"
   ]
  },
  {
   "cell_type": "markdown",
   "metadata": {},
   "source": [
    "# Trades"
   ]
  },
  {
   "cell_type": "code",
   "execution_count": null,
   "metadata": {
    "scrolled": true
   },
   "outputs": [],
   "source": [
    "df_trades = df[df.iloc[:,0] == \"Trades\"].dropna(how='all', axis=1)\n",
    "df_trades, df_trades.columns = df_trades.iloc[1:] , df_trades.iloc[0]\n",
    "df_trades.columns.name = None"
   ]
  },
  {
   "cell_type": "code",
   "execution_count": null,
   "metadata": {
    "scrolled": true
   },
   "outputs": [],
   "source": [
    "# obtain asset type\n",
    "try:\n",
    "    df_trades[['Asset','Category']] = df_trades[\"Asset Category\"].str.split(\"-\", expand=True).copy()\n",
    "except:\n",
    "    df_trades[\"Asset\"] = df_trades[\"Asset Category\"]\n",
    "\n",
    "# remove subheader\n",
    "df_trades = df_trades[(df_trades[\"Realized P/L\"]!=\"Realized P/L\") & ~(df_trades[\"Header\"].str.contains(\"SubTotal|Total\"))].copy()\n",
    "\n",
    "# convert dtypes\n",
    "df_trades[\"Realized P/L\"] = df_trades[\"Realized P/L\"].astype(float)\n",
    "\n",
    "# remove empty rows\n",
    "df_trades = df_trades[df_trades[\"Realized P/L\"].notnull()] #df_trades[\"Realized P/L\"]!=0) &\n",
    " \n",
    "# convert to datetime\n",
    "df_trades[\"Date/Time\"] = pd.to_datetime(df_trades[\"Date/Time\"],  infer_datetime_format=True)\n",
    "\n",
    "df_futures = df_trades[df_trades[\"Asset Category\"].str.contains(\"Futures\")] \\\n",
    "    if df_trades[\"Asset Category\"].str.contains(\"Futures\").sum() > 0 else pd.DataFrame()\n",
    "df_options = df_trades[df_trades[\"Asset Category\"].str.contains(\"Options\")] \\\n",
    "    if df_trades[\"Asset Category\"].str.contains(\"Options\").sum() > 0 else pd.DataFrame()\n",
    "df_cfd = df_trades[df_trades[\"Asset Category\"].str.contains(\"CFD\")] \\\n",
    "    if df_trades[\"Asset Category\"].str.contains(\"CFD\").sum() > 0 else pd.DataFrame()\n",
    "\n",
    "df_trades = df_trades.reset_index(drop=True)"
   ]
  },
  {
   "cell_type": "code",
   "execution_count": null,
   "metadata": {
    "scrolled": true
   },
   "outputs": [],
   "source": [
    "# convert to EUR using ECB rates\n",
    "df_trades[\"P/L [€]\"] = df_trades.apply(lambda row: c.convert(\n",
    "    row[\"Realized P/L\"] , row.Currency, date=row[\"Date/Time\"]), axis=1)\n",
    "df_trades[\"P [€]\"] = df_trades[\"P/L [€]\"].apply(lambda row: row if row > 0 else 0)\n",
    "df_trades[\"L [€]\"] = df_trades[\"P/L [€]\"].apply(lambda row: row if row < 0 else 0)"
   ]
  },
  {
   "cell_type": "code",
   "execution_count": null,
   "metadata": {
    "scrolled": true
   },
   "outputs": [],
   "source": [
    "PL_TradesDet = df_trades.groupby([\"Currency\", \"Asset\"]).sum()\n",
    "PL_Trades = df_trades.groupby([\"Asset\"]).sum()"
   ]
  },
  {
   "cell_type": "markdown",
   "metadata": {},
   "source": [
    "# Dividend"
   ]
  },
  {
   "cell_type": "code",
   "execution_count": null,
   "metadata": {
    "scrolled": true
   },
   "outputs": [],
   "source": [
    "def process_df(df):\n",
    "    # set first row as header\n",
    "    df, df.columns = df.iloc[1:] , df.iloc[0]\n",
    "    \n",
    "    # remove rows with sum\n",
    "    df = df[~df.Currency.str.contains(\"Total\")]\n",
    "    \n",
    "    # conver dtypes\n",
    "    df[\"Amount\"] = df[\"Amount\"].astype(float)\n",
    "    \n",
    "    # convert to datetime\n",
    "    df[\"Date\"] = pd.to_datetime(df[\"Date\"],  infer_datetime_format=True)\n",
    "    \n",
    "    # convert to EUR using ECB rates\n",
    "    df[\"Amount [€]\"] = df.apply(lambda row: c.convert(row[\"Amount\"] , row[\"Currency\"], date=row[\"Date\"]), axis=1)\n",
    "    \n",
    "    # label CFD dividens\n",
    "    df[\"Description\"] = df[\"Description\"].str.replace(\" \",\"\")\n",
    "    df[['Symbol','TrashCol']] = df[\"Description\"].str.split(\"(\", n=1, expand=True).copy()\n",
    "    df[['Country','TrashCol']] = df[\"TrashCol\"].str.split(\")\", n=1, expand=True).copy()\n",
    "    df[\"Country\"] = df[\"Country\"].str.extract(r'(^\\D+)').fillna(\"CFD\")\n",
    "    df[\"Asset\"] = \"Stocks\"\n",
    "    df.loc[df.Symbol.str.endswith(\"n\"), \"Asset\"] = \"CFDs\" \n",
    "    \n",
    "    # remove index from column names\n",
    "    df.columns.name = None\n",
    "    df.reset_index(drop=True)\n",
    "    \n",
    "    return df"
   ]
  },
  {
   "cell_type": "code",
   "execution_count": null,
   "metadata": {
    "scrolled": true
   },
   "outputs": [],
   "source": [
    "df_div = df[df.iloc[:,0] == \"Dividends\"].dropna(how='all', axis=1)\n",
    "df_wtax = df[df.iloc[:,0] == \"Withholding Tax\"].dropna(how='all', axis=1)\n",
    "df_871 = df[df.iloc[:,0] == \"871(m) Withholding\"].dropna(how='all', axis=1)"
   ]
  },
  {
   "cell_type": "code",
   "execution_count": null,
   "metadata": {
    "scrolled": true
   },
   "outputs": [],
   "source": [
    "df_div = process_df(df_div)\n",
    "df_wtax = process_df(df_wtax) if not df_wtax.empty else df_wtax"
   ]
  },
  {
   "cell_type": "code",
   "execution_count": null,
   "metadata": {
    "scrolled": true
   },
   "outputs": [],
   "source": [
    "df_871 = process_df(df_871) if not df_871.empty else df_871\n",
    "df_871[\"Asset\"] = \"CFDs\"\n",
    "df_wtax = df_wtax.append(df_871)"
   ]
  },
  {
   "cell_type": "code",
   "execution_count": null,
   "metadata": {
    "scrolled": true
   },
   "outputs": [],
   "source": [
    "WithholdingTax = df_wtax.groupby([\"Currency\", \"Asset\", \"Country\"]).sum() if not df_wtax.empty else df_wtax\n",
    "Dividends = df_div.groupby([\"Currency\", \"Asset\", \"Country\"]).sum()"
   ]
  },
  {
   "cell_type": "code",
   "execution_count": null,
   "metadata": {},
   "outputs": [],
   "source": [
    "# reduce df & convert dtypes\n",
    "df_interest = df[df.iloc[:,0] == \"Interest\"].dropna(how='all', axis=1)\n",
    "df_interest, df_interest.columns = df_interest.iloc[1:] , df_interest.iloc[0]\n",
    "df_interest = df_interest[~df_interest[\"Currency\"].str.contains(\"SubTotal|Total\")]\n",
    "df_interest[\"Amount\"] = df_interest[\"Amount\"].astype(float)\n",
    "\n",
    "# convert to datetime\n",
    "df_interest[\"Date\"] = pd.to_datetime(df_interest[\"Date\"],  infer_datetime_format=True)\n",
    "# convert to EUR using ECB rates\n",
    "df_interest[\"Amount [€]\"] = df_interest.apply(lambda row: c.convert(row[\"Amount\"] , row[\"Currency\"], date=row[\"Date\"]), axis=1)\n",
    "df_interest.columns.name = None\n",
    "\n"
   ]
  },
  {
   "cell_type": "code",
   "execution_count": null,
   "metadata": {},
   "outputs": [],
   "source": [
    "# aggregate positive and negative\n",
    "Interest = df_interest.groupby([\"Currency\"])[['Amount','Amount [€]']].agg([\n",
    "    (\"Received\", lambda x: x[x>0].sum()),\n",
    "    (\"Paid\", lambda x: x[x<0].sum())\n",
    "])"
   ]
  },
  {
   "cell_type": "markdown",
   "metadata": {},
   "source": [
    "# Futures / Option Premiums"
   ]
  },
  {
   "cell_type": "markdown",
   "metadata": {},
   "source": [
    "- Only applies if every position is closed and opened during the year (i.e. Options)"
   ]
  },
  {
   "cell_type": "code",
   "execution_count": null,
   "metadata": {},
   "outputs": [],
   "source": [
    "def getTradesPnl(df, multiplier):\n",
    "    if df.empty:\n",
    "        return pd.DataFrame(), pd.DataFrame()\n",
    "    else:\n",
    "        try:\n",
    "            df[\"TPrice\"] = df[\"T. Price\"].astype(float) * multiplier\n",
    "            df[\"TPrice\"] = df[\"TPrice\"] * -df[\"Quantity\"].astype(int)\n",
    "            df[\"TPrice\"] = df[\"TPrice\"] + df[\"Comm/Fee\"].astype(float) \n",
    "            df[\"Pnl\"] = df.apply(lambda row: c.convert(\n",
    "                        row[\"TPrice\"] , row.Currency, date=row[\"Date/Time\"]), axis=1)\n",
    "            df[\"cummulative\"] = df[\"Pnl\"].cumsum()\n",
    "\n",
    "            df[\"Open\"] = df.Code.str.match(r'(C)(?!\\w)') # regex should also include (O) not prepended with word char\n",
    "            df[\"Open\"] = df[\"Open\"].cumsum().shift().fillna(0)\n",
    "\n",
    "            s1 = df.groupby(\"Open\").last()[\"Symbol\"]\n",
    "            s2 = df.groupby(\"Open\").sum()[\"Pnl\"]\n",
    "        except:\n",
    "            s1 = pd.Series([0], name=\"Symbol\")\n",
    "            s2 = pd.Series([0], name=\"Pnl\")\n",
    "\n",
    "        df_resultDet = pd.concat([s1, s2], axis=1)\n",
    "        df_result = pd.DataFrame()\n",
    "\n",
    "        try:\n",
    "            df_result[\"P [€]\"] = [df_resultDet[\"Pnl\"].apply(lambda row: row if row > 0 else 0).sum()]\n",
    "            df_result[\"L [€]\"] = [df_resultDet[\"Pnl\"].apply(lambda row: row if row < 0 else 0).sum()]\n",
    "        except:\n",
    "            pass\n",
    "\n",
    "        return df_result, df_resultDet\n",
    "    "
   ]
  },
  {
   "cell_type": "code",
   "execution_count": null,
   "metadata": {},
   "outputs": [],
   "source": [
    "multiplier = 1\n",
    "Futures, FuturesDet = getTradesPnl(df_futures.copy(), multiplier)\n",
    "Futures"
   ]
  },
  {
   "cell_type": "code",
   "execution_count": null,
   "metadata": {},
   "outputs": [],
   "source": [
    "multiplier = 100\n",
    "Options, OptionsDet = getTradesPnl(df_options.copy(), multiplier)\n",
    "Options"
   ]
  },
  {
   "cell_type": "code",
   "execution_count": null,
   "metadata": {},
   "outputs": [],
   "source": [
    "multiplier = 1\n",
    "Cfd, CfdDet = getTradesPnl(df_cfd.copy(), multiplier)\n",
    "Cfd"
   ]
  },
  {
   "cell_type": "markdown",
   "metadata": {},
   "source": [
    "# Anlage KAP"
   ]
  },
  {
   "cell_type": "code",
   "execution_count": null,
   "metadata": {},
   "outputs": [],
   "source": [
    "optStr, stockStr, cfdStr, futStr = \"\", \"\", \"\", \"\"\n",
    "if PL_Trades.index.str.contains(\"Option\").sum() > 0:\n",
    "    optStr = PL_Trades.index[PL_Trades.index.str.contains(\"Option\")][0]\n",
    "if PL_Trades.index.str.contains(\"Stock\").sum() > 0:\n",
    "    stockStr = PL_Trades.index[PL_Trades.index.str.contains(\"Stock\")][0]\n",
    "if PL_Trades.index.str.contains(\"CFD\").sum() > 0:\n",
    "    cfdStr = PL_Trades.index[PL_Trades.index.str.contains(\"CFD\")][0]\n",
    "if PL_Trades.index.str.contains(\"Futures\").sum() > 0:\n",
    "    futStr = PL_Trades.index[PL_Trades.index.str.contains(\"Futures\")][0]"
   ]
  },
  {
   "cell_type": "code",
   "execution_count": null,
   "metadata": {},
   "outputs": [],
   "source": [
    "includeCfd = False\n",
    "lst_kap = []\n",
    "\n",
    "# Line 18 German capital income, Interest + option premium\n",
    "# according to pwc report without dividend ger\n",
    "dividendGer = Dividends[Dividends.index.get_level_values(2) == 'DE'].sum()[\"Amount [€]\"]\n",
    "interest = Interest.sum()[\"Amount [€]\"][\"Received\"]\n",
    "#TODO: only german, instead of current only eur\n",
    "optPremEur = PL_TradesDet[\"P [€]\"][\"EUR\"][optStr] \\\n",
    "    if optStr in PL_TradesDet[\"P [€]\"][\"EUR\"].index \\\n",
    "    else 0\n",
    "\n",
    "if OptionsDet.empty:\n",
    "    optPremEur = 0\n",
    "else:\n",
    "    try:\n",
    "        # hard coded, german stocks selected\n",
    "        gerStock = \"FRE|SAP\"\n",
    "        gerStockMask = OptionsDet.Symbol.str.contains(gerStock)\n",
    "        optPremEur = OptionsDet[gerStockMask][\"Pnl\"].sum()\n",
    "    except:\n",
    "        # if first 3 options trades are german\n",
    "        optPremEur = OptionsDet[:3][\"Pnl\"].sum()\n",
    "        \n",
    "capIncomeGer = interest + optPremEur\n",
    "\n",
    "# deprecated\n",
    "mask = (PL_TradesDet[\"P [€]\"].index.get_level_values(0) != \"EUR\") \\\n",
    "    & (PL_TradesDet[\"P [€]\"].index.get_level_values(1) == optStr)\n",
    "optPrem = PL_TradesDet[\"P [€]\"][mask].sum()\n",
    "# new\n",
    "optPrem = Options[\"P [€]\"].sum() - optPremEur if not Options.empty else 0\n",
    "\n",
    "# Line 20 Stock Profit\n",
    "stockProfit = PL_Trades[\"P [€]\"][stockStr] if stockStr in PL_Trades[\"P [€]\"].index else 0\n",
    "\n",
    "# Line 22 non Stock loss (future loss + option loss)\n",
    "# nonStockLoss = PL_Trades[\"L [€]\"][(PL_Trades[\"L [€]\"].index != stockStr) & (PL_Trades[\"L [€]\"].index != cfdStr)].sum()\n",
    "nonStockLoss = PL_Trades[\"L [€]\"][futStr] if futStr in PL_Trades[\"L [€]\"].index else 0\n",
    "nonStockLoss = nonStockLoss + Options[\"L [€]\"].sum() if not Options.empty else 0 \n",
    "\n",
    "# Line 23 Stock loss\n",
    "stockLoss = PL_Trades[\"L [€]\"][stockStr] if stockStr in PL_Trades[\"L [€]\"].index else 0\n",
    "\n",
    "# Line 19 Foreign capital income\n",
    "# stock profit + other loss + stock loss + option premium + dividend - line18\n",
    "capIncome = stockProfit + nonStockLoss + stockLoss + optPrem + Dividends.sum()[\"Amount [€]\"] - dividendGer\n",
    "\n",
    "# cfd\n",
    "if includeCfd:\n",
    "    cfdLoss = PL_TradesDet[PL_TradesDet.index.get_level_values(1) == cfdStr][\"L [€]\"].sum()\n",
    "    cfdProfit = PL_TradesDet[PL_TradesDet.index.get_level_values(1) == cfdStr][\"P [€]\"].sum()\n",
    "    cfdDividend = Dividends[Dividends.index.get_level_values(1) == cfdStr][\"Amount [€]\"].sum()\n",
    "    \n",
    "    nonStockLoss = nonStockLoss + cfdLoss\n",
    "    capIncome = capIncome + cfdProfit + cfdDividend\n",
    "\n",
    "lst_kap.append([\"Line 18\", capIncomeGer])\n",
    "lst_kap.append([\"Line 19\", capIncome])\n",
    "lst_kap.append([\"Line 20\", stockProfit])\n",
    "lst_kap.append([\"Line 22\", nonStockLoss])\n",
    "lst_kap.append([\"Line 23\", stockLoss])\n",
    "KAP = pd.DataFrame(lst_kap, columns=[\"Name\",\"Value\"])"
   ]
  },
  {
   "cell_type": "markdown",
   "metadata": {},
   "source": [
    "# Final adjustments"
   ]
  },
  {
   "cell_type": "code",
   "execution_count": null,
   "metadata": {},
   "outputs": [],
   "source": [
    "WithholdingTax = addSumRow(WithholdingTax)\n",
    "Dividends = addSumRow(Dividends)\n",
    "Interest = addSumRow(Interest)\n",
    "PL_Trades = addSumRow(PL_Trades)\n",
    "PL_TradesDet = addSumRow(PL_TradesDet)\n",
    "OptionsDet = addSumRow(OptionsDet) if not OptionsDet.empty else OptionsDet\n",
    "FuturesDet = addSumRow(FuturesDet) if not FuturesDet.empty else FuturesDet\n",
    "CfdDet = addSumRow(CfdDet) if not CfdDet.empty else CfdDet"
   ]
  },
  {
   "cell_type": "markdown",
   "metadata": {},
   "source": [
    "# Results"
   ]
  },
  {
   "cell_type": "code",
   "execution_count": null,
   "metadata": {},
   "outputs": [],
   "source": [
    "KAP"
   ]
  },
  {
   "cell_type": "code",
   "execution_count": null,
   "metadata": {},
   "outputs": [],
   "source": [
    "Interest"
   ]
  },
  {
   "cell_type": "code",
   "execution_count": null,
   "metadata": {
    "scrolled": true
   },
   "outputs": [],
   "source": [
    "WithholdingTax if not WithholdingTax.empty else \"No Withholding Tax\""
   ]
  },
  {
   "cell_type": "code",
   "execution_count": null,
   "metadata": {
    "scrolled": true
   },
   "outputs": [],
   "source": [
    "Dividends"
   ]
  },
  {
   "cell_type": "code",
   "execution_count": null,
   "metadata": {
    "scrolled": true
   },
   "outputs": [],
   "source": [
    "PL_Trades"
   ]
  },
  {
   "cell_type": "code",
   "execution_count": null,
   "metadata": {},
   "outputs": [],
   "source": [
    "PL_TradesDet"
   ]
  },
  {
   "cell_type": "markdown",
   "metadata": {},
   "source": [
    "# Detailed Results"
   ]
  },
  {
   "cell_type": "code",
   "execution_count": null,
   "metadata": {},
   "outputs": [],
   "source": [
    "display(\"Options\", Options, OptionsDet)"
   ]
  },
  {
   "cell_type": "code",
   "execution_count": null,
   "metadata": {},
   "outputs": [],
   "source": [
    "display(\"Futures\", Futures, FuturesDet)"
   ]
  },
  {
   "cell_type": "code",
   "execution_count": null,
   "metadata": {},
   "outputs": [],
   "source": [
    "display(\"CFD\", Cfd, CfdDet)"
   ]
  },
  {
   "cell_type": "markdown",
   "metadata": {},
   "source": [
    "---"
   ]
  },
  {
   "cell_type": "markdown",
   "metadata": {},
   "source": [
    "# P/L Forex"
   ]
  },
  {
   "cell_type": "markdown",
   "metadata": {},
   "source": [
    "## Not fully tested"
   ]
  },
  {
   "cell_type": "markdown",
   "metadata": {},
   "source": [
    "### Only applies if every position is closed and opened during the year (i.e. Options)"
   ]
  },
  {
   "cell_type": "markdown",
   "metadata": {},
   "source": [
    "Use > Realized & Unrealized Performance Summary > Forex"
   ]
  },
  {
   "cell_type": "code",
   "execution_count": null,
   "metadata": {},
   "outputs": [],
   "source": [
    "assets  = df_trades.Asset.unique()\n",
    "results = []\n",
    "for asset in assets:\n",
    "    try:\n",
    "        df_asstes = df_trades[df_trades.Asset == asset].copy()\n",
    "        df_asstes[\"Basis\"] = df_asstes[\"Basis\"].astype(float)\n",
    "        df_asstes[\"Basis [€]\"] = df_asstes.apply(lambda row: c.convert(\n",
    "            row[\"Basis\"] , row.Currency, date=row[\"Date/Time\"]), axis=1)\n",
    "        currencies = df_asstes.Currency.unique()\n",
    "        \n",
    "        for curr in currencies:\n",
    "            df_curr = df_asstes[df_asstes.Currency==curr].copy()\n",
    "            open_position = df_curr[\"Basis\"].round(2).sum()\n",
    "            pl_forex = df_curr[\"Basis [€]\"].round(2).sum()\n",
    "            avg_rate = df_asstes.apply(lambda row: c.convert(\n",
    "            1 , row.Currency, date=row[\"Date/Time\"]), axis=1).mean()\n",
    "            results.append([curr, avg_rate, pl_forex, open_position, asset])\n",
    "            #results.append([curr, pl_forex, open_position, asset])\n",
    "            \n",
    "    except Exception as e:\n",
    "        print(f\"Failed for {asset} with error: {e}\")\n",
    "df_forex = pd.DataFrame(results).T\n",
    "df_forex, df_forex.columns = df_forex.iloc[1:] , df_forex.iloc[0]\n",
    "df_forex = df_forex.T\n",
    "df_forex.columns = [\"Average Rate\", \"PL_Forex [€]\", \"Open Position\", \"Asset\"]\n",
    "#df_forex.columns = [\"PL_Forex [€]\", \"Open Position\", \"Asset\"]\n",
    "df_forex.index.name = None\n",
    "df_forex[\"PL_Forex_ADJ [€]\"] = df_forex[\"PL_Forex [€]\"] - df_forex[\"Open Position\"]\n",
    "df_forex.loc[:,:] = df_forex.loc[:,:].apply(pd.to_numeric, errors = 'ignore')\n",
    "df_forex.loc['Column_Total'] = df_forex.sum(numeric_only=True, axis=0)\n",
    "PL_Forex = df_forex\n",
    "PL_Forex"
   ]
  },
  {
   "cell_type": "markdown",
   "metadata": {},
   "source": [
    "# Code Cementary"
   ]
  },
  {
   "cell_type": "code",
   "execution_count": null,
   "metadata": {},
   "outputs": [],
   "source": [
    "try:\n",
    "    df_options[\"TPrice\"] = df_options[\"T. Price\"].astype(float) * 100\n",
    "    df_options[\"TPrice\"] = df_options[\"TPrice\"] * -df_options[\"Quantity\"].astype(int)\n",
    "    df_options[\"TPrice\"] = df_options[\"TPrice\"] + df_options[\"Comm/Fee\"].astype(float) \n",
    "    df_options[\"Pnl\"] = df_options.apply(lambda row: c.convert(\n",
    "                row[\"TPrice\"] , row.Currency, date=row[\"Date/Time\"]), axis=1)\n",
    "    df_options[\"cummulative\"] = df_options[\"Pnl\"].cumsum()\n",
    "\n",
    "    df_options[\"Open\"] = df_options.Code.str.match(r'(C)(?!\\w)') # regex should also include (O) not prepended with word char\n",
    "    df_options[\"Open\"] = df_options[\"Open\"].cumsum().shift().fillna(0)\n",
    "\n",
    "    s1 = df_options.groupby(\"Open\").last()[\"Symbol\"]\n",
    "    s2 = df_options.groupby(\"Open\").sum()[\"Pnl\"]\n",
    "except:\n",
    "    s1 = pd.Series([0], name=\"Symbol\")\n",
    "    s2 = pd.Series([0], name=\"Pnl\")"
   ]
  },
  {
   "cell_type": "code",
   "execution_count": null,
   "metadata": {},
   "outputs": [],
   "source": [
    "OptionsDet = pd.concat([s1, s2], axis=1)\n",
    "\n",
    "Options = pd.DataFrame()\n",
    "try:\n",
    "    Options[\"P [€]\"] = [OptionsDet[\"Pnl\"].apply(lambda row: row if row > 0 else 0).sum()]\n",
    "    Options[\"L [€]\"] = [OptionsDet[\"Pnl\"].apply(lambda row: row if row < 0 else 0).sum()]\n",
    "except:\n",
    "    pass"
   ]
  }
 ],
 "metadata": {
  "kernelspec": {
   "display_name": "Python 3",
   "language": "python",
   "name": "python3"
  },
  "language_info": {
   "codemirror_mode": {
    "name": "ipython",
    "version": 3
   },
   "file_extension": ".py",
   "mimetype": "text/x-python",
   "name": "python",
   "nbconvert_exporter": "python",
   "pygments_lexer": "ipython3",
   "version": "3.7.9"
  }
 },
 "nbformat": 4,
 "nbformat_minor": 4
}
