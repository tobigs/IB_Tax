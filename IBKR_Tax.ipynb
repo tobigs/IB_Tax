{
 "cells": [
  {
   "cell_type": "markdown",
   "metadata": {},
   "source": [
    " # IBKR Tax"
   ]
  },
  {
   "cell_type": "markdown",
   "metadata": {},
   "source": [
    " Requirements:\n",
    " - English activity statement\n",
    " - Year of activity statement 2020 and older\n",
    " - All Options, Futures, CFDs closed before year end\n",
    " - Only single short put and short call (Line 25 Losses from the disposal of worthless assets as per section 20(1) of the Income Tax Act not implemented)\n",
    " - Manual credit of Withholding tax\n",
    " - No classification of REITs as investment fund required"
   ]
  },
  {
   "cell_type": "code",
   "execution_count": null,
   "metadata": {},
   "outputs": [],
   "source": [
    "import pandas as pd\n",
    "\n",
    "from IPython.display import display\n",
    "\n",
    "from utils import *\n"
   ]
  },
  {
   "cell_type": "markdown",
   "metadata": {},
   "source": [
    " # Read Data"
   ]
  },
  {
   "cell_type": "code",
   "execution_count": null,
   "metadata": {},
   "outputs": [],
   "source": [
    "\n",
    "myFile = \"MY_ACTIVITY_STATEMENT.csv\"\n",
    "\n",
    "df = parse_activityStatement(myFile)\n"
   ]
  },
  {
   "cell_type": "markdown",
   "metadata": {},
   "source": [
    " # Trades"
   ]
  },
  {
   "cell_type": "code",
   "execution_count": null,
   "metadata": {},
   "outputs": [],
   "source": [
    "\n",
    "tradesStatement = get_trades(df)\n",
    "\n",
    "PL_Trades = tradesStatement.pl\n",
    "PL_TradesDet = tradesStatement.plDet\n",
    "\n",
    "df_trades = tradesStatement.trades\n",
    "df_futures = tradesStatement.futures\n",
    "df_options = tradesStatement.options\n",
    "df_cfd = tradesStatement.cfd\n",
    "\n",
    "display(PL_TradesDet, PL_Trades)\n"
   ]
  },
  {
   "cell_type": "markdown",
   "metadata": {},
   "source": [
    " # Dividend"
   ]
  },
  {
   "cell_type": "code",
   "execution_count": null,
   "metadata": {},
   "outputs": [],
   "source": [
    "\n",
    "WithholdingTax, Dividends = get_dividends(df)\n",
    "\n",
    "display(WithholdingTax, Dividends)\n"
   ]
  },
  {
   "cell_type": "markdown",
   "metadata": {},
   "source": [
    " # Interest"
   ]
  },
  {
   "cell_type": "code",
   "execution_count": null,
   "metadata": {},
   "outputs": [],
   "source": [
    "\n",
    "Interest = get_interest(df)\n",
    "\n",
    "Interest\n"
   ]
  },
  {
   "cell_type": "markdown",
   "metadata": {},
   "source": [
    " # Futures / Option / CFD Profit and Loss"
   ]
  },
  {
   "cell_type": "markdown",
   "metadata": {},
   "source": [
    " - Only applies if every position is closed and opened during the year (i.e. Options)"
   ]
  },
  {
   "cell_type": "code",
   "execution_count": null,
   "metadata": {},
   "outputs": [],
   "source": [
    "\n",
    "multiplier = 1\n",
    "Futures, FuturesDet = getTradesPnl(df_futures.copy(), multiplier)\n",
    "\n",
    "display(Futures, FuturesDet)\n"
   ]
  },
  {
   "cell_type": "code",
   "execution_count": null,
   "metadata": {},
   "outputs": [],
   "source": [
    "multiplier = 100\n",
    "Options, OptionsDet = getTradesPnl(df_options.copy(), multiplier)\n",
    "\n",
    "display(Options, OptionsDet)\n",
    "\n"
   ]
  },
  {
   "cell_type": "code",
   "execution_count": null,
   "metadata": {},
   "outputs": [],
   "source": [
    "multiplier = 1\n",
    "Cfd, CfdDet = getTradesPnl(df_cfd.copy(), multiplier)\n",
    "\n",
    "display(Cfd, CfdDet)\n"
   ]
  },
  {
   "cell_type": "markdown",
   "metadata": {},
   "source": [
    " # Anlage KAP"
   ]
  },
  {
   "cell_type": "code",
   "execution_count": null,
   "metadata": {},
   "outputs": [],
   "source": [
    "activityStatement = namedtuple('statement', ['pl', 'plDet', 'options', 'optionsDet', 'dividends', 'interest'])\n",
    "\n",
    "KAP = get_kap(activityStatement(PL_Trades, PL_TradesDet, Options, OptionsDet, Dividends, Interest))\n",
    "\n",
    "KAP\n"
   ]
  },
  {
   "cell_type": "markdown",
   "metadata": {},
   "source": [
    " # Results"
   ]
  },
  {
   "cell_type": "code",
   "execution_count": null,
   "metadata": {},
   "outputs": [],
   "source": [
    "WithholdingTax = addSumRow(WithholdingTax)\n",
    "Dividends = addSumRow(Dividends)\n",
    "Interest = addSumRow(Interest)\n",
    "PL_Trades = addSumRow(PL_Trades)\n",
    "PL_TradesDet = addSumRow(PL_TradesDet)\n",
    "OptionsDet = addSumRow(OptionsDet) if not OptionsDet.empty else OptionsDet\n",
    "FuturesDet = addSumRow(FuturesDet) if not FuturesDet.empty else FuturesDet\n",
    "CfdDet = addSumRow(CfdDet) if not CfdDet.empty else CfdDet"
   ]
  },
  {
   "cell_type": "code",
   "execution_count": null,
   "metadata": {},
   "outputs": [],
   "source": [
    "Interest\n"
   ]
  },
  {
   "cell_type": "code",
   "execution_count": null,
   "metadata": {},
   "outputs": [],
   "source": [
    "WithholdingTax if not WithholdingTax.empty else \"No Withholding Tax\"\n"
   ]
  },
  {
   "cell_type": "code",
   "execution_count": null,
   "metadata": {},
   "outputs": [],
   "source": [
    "Dividends\n"
   ]
  },
  {
   "cell_type": "code",
   "execution_count": null,
   "metadata": {},
   "outputs": [],
   "source": [
    "PL_Trades\n"
   ]
  },
  {
   "cell_type": "code",
   "execution_count": null,
   "metadata": {},
   "outputs": [],
   "source": [
    "PL_TradesDet\n"
   ]
  },
  {
   "cell_type": "markdown",
   "metadata": {},
   "source": [
    " # Detailed Results"
   ]
  },
  {
   "cell_type": "code",
   "execution_count": null,
   "metadata": {},
   "outputs": [],
   "source": [
    "display(Options, OptionsDet)\n"
   ]
  },
  {
   "cell_type": "code",
   "execution_count": null,
   "metadata": {},
   "outputs": [],
   "source": [
    "display(Futures, FuturesDet)\n"
   ]
  },
  {
   "cell_type": "code",
   "execution_count": null,
   "metadata": {},
   "outputs": [],
   "source": [
    "display(Cfd, CfdDet)\n"
   ]
  },
  {
   "cell_type": "markdown",
   "metadata": {},
   "source": [
    " ---"
   ]
  },
  {
   "cell_type": "markdown",
   "metadata": {},
   "source": [
    " # P/L Forex"
   ]
  },
  {
   "cell_type": "markdown",
   "metadata": {},
   "source": [
    " ## Experimental stuff\n",
    " Not fully tested"
   ]
  },
  {
   "cell_type": "markdown",
   "metadata": {},
   "source": [
    " ### Only applies if every position is closed and opened during the year (i.e. Options)"
   ]
  },
  {
   "cell_type": "markdown",
   "metadata": {},
   "source": [
    " Use > Realized & Unrealized Performance Summary > Forex"
   ]
  },
  {
   "cell_type": "code",
   "execution_count": null,
   "metadata": {},
   "outputs": [],
   "source": [
    "assets  = df_trades.Asset.unique()\n",
    "results = []\n",
    "for asset in assets:\n",
    "    try:\n",
    "        df_asstes = df_trades[df_trades.Asset == asset].copy()\n",
    "        df_asstes[\"Basis\"] = df_asstes[\"Basis\"].astype(float)\n",
    "        df_asstes[\"Basis [€]\"] = df_asstes.apply(lambda row: c.convert(\n",
    "            row[\"Basis\"] , row.Currency, date=row[\"Date/Time\"]), axis=1)\n",
    "        currencies = df_asstes.Currency.unique()\n",
    "        \n",
    "        for curr in currencies:\n",
    "            df_curr = df_asstes[df_asstes.Currency==curr].copy()\n",
    "            open_position = df_curr[\"Basis\"].round(2).sum()\n",
    "            pl_forex = df_curr[\"Basis [€]\"].round(2).sum()\n",
    "            avg_rate = df_asstes.apply(lambda row: c.convert(\n",
    "            1 , row.Currency, date=row[\"Date/Time\"]), axis=1).mean()\n",
    "            results.append([curr, avg_rate, pl_forex, open_position, asset])\n",
    "            #results.append([curr, pl_forex, open_position, asset])\n",
    "            \n",
    "    except Exception as e:\n",
    "        print(f\"Failed for {asset} with error: {e}\")\n",
    "df_forex = pd.DataFrame(results).T\n",
    "df_forex, df_forex.columns = df_forex.iloc[1:] , df_forex.iloc[0]\n",
    "df_forex = df_forex.T\n",
    "df_forex.columns = [\"Average Rate\", \"PL_Forex [€]\", \"Open Position\", \"Asset\"]\n",
    "#df_forex.columns = [\"PL_Forex [€]\", \"Open Position\", \"Asset\"]\n",
    "df_forex.index.name = None\n",
    "df_forex[\"PL_Forex_ADJ [€]\"] = df_forex[\"PL_Forex [€]\"] - df_forex[\"Open Position\"]\n",
    "df_forex.loc[:,:] = df_forex.loc[:,:].apply(pd.to_numeric, errors = 'ignore')\n",
    "df_forex.loc['Column_Total'] = df_forex.sum(numeric_only=True, axis=0)\n",
    "PL_Forex = df_forex\n",
    "PL_Forex"
   ]
  }
 ],
 "metadata": {
  "kernelspec": {
   "display_name": "Python 3",
   "language": "python",
   "name": "python3"
  },
  "language_info": {
   "codemirror_mode": {
    "name": "ipython",
    "version": 3
   },
   "file_extension": ".py",
   "mimetype": "text/x-python",
   "name": "python",
   "nbconvert_exporter": "python",
   "pygments_lexer": "ipython3",
   "version": "3.7.9"
  }
 },
 "nbformat": 4,
 "nbformat_minor": 2
}
